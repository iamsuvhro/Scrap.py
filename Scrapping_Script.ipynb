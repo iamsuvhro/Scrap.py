{
 "cells": [
  {
   "cell_type": "code",
   "execution_count": null,
   "metadata": {},
   "outputs": [],
   "source": [
    "!pip install tqdm\n",
    "!pip install selenium"
   ]
  },
  {
   "cell_type": "code",
   "execution_count": 1,
   "metadata": {},
   "outputs": [
    {
     "name": "stderr",
     "output_type": "stream",
     "text": [
      "  0%|                                                                                            | 0/2 [00:00<?, ?it/s]C:\\Users\\suvhr\\anaconda3\\lib\\site-packages\\ipykernel_launcher.py:15: DeprecationWarning: use options instead of chrome_options\n",
      "  from ipykernel import kernelapp as app\n",
      "100%|████████████████████████████████████████████████████████████████████████████████████| 2/2 [00:12<00:00,  6.08s/it]\n"
     ]
    }
   ],
   "source": [
    "#creating loop for scrapping the data\n",
    "from selenium import webdriver as wb\n",
    "from tqdm import tqdm\n",
    "import pandas as pd\n",
    "#put here your data link path \n",
    "data_link = r\"C:\\Users\\suvhr\\OneDrive\\Desktop\\Scrap.py\\data.csv\"\n",
    "df = pd.read_csv(data_link, delimiter=',', quotechar='\"')\n",
    "df_link = list(df[\"selection1_url\"])\n",
    "df_final = pd.DataFrame()\n",
    "temp_data = []\n",
    "temp_data_one = []\n",
    "temp_data_two = []\n",
    "#if you want to change loop iteration the just change the loop inner number\n",
    "for i in tqdm(range(0,2)): #len(df_link) if you want the extract full data\n",
    "    path_chrome = \"chromedriver.exe\"\n",
    "    options = wb.ChromeOptions() \n",
    "    webD=wb.Chrome(\"chromedriver.exe\", chrome_options=options)\n",
    "    webD.maximize_window()\n",
    "    webD.implicitly_wait(100)\n",
    "    webD.get(df_link[i])\n",
    "    clickObj = webD.find_element_by_xpath('//*[@id=\"body-wrap\"]/section[2]/div/div/div[1]/div[2]/div[1]/h1')\n",
    "    clickObj_one = webD.find_element_by_xpath('//*[@id=\"body-wrap\"]/section[2]/div/div/div[1]/div[2]/div[2]/p')\n",
    "    clickObj_two = webD.find_element_by_xpath('//*[@id=\"body-wrap\"]/section[2]/div/div/div[1]/div[4]/table/tbody')\n",
    "    temp_data.append(clickObj.text)\n",
    "    temp_data_one.append(clickObj_one.text)\n",
    "    temp_data_two.append(clickObj_two.text)\n",
    "    webD.close()\n",
    "\n",
    "    \n",
    "df_final['d1'] = temp_data\n",
    "df_final['d2'] = temp_data_one\n",
    "df_final['d3'] = temp_data_two\n",
    "#change csv file name after all compilation otherwise your data will be overite\n",
    "df_final.to_csv(\"demo.csv\", index=None)"
   ]
  },
  {
   "cell_type": "code",
   "execution_count": null,
   "metadata": {},
   "outputs": [],
   "source": []
  },
  {
   "cell_type": "code",
   "execution_count": null,
   "metadata": {},
   "outputs": [],
   "source": []
  }
 ],
 "metadata": {
  "kernelspec": {
   "display_name": "Python 3",
   "language": "python",
   "name": "python3"
  },
  "language_info": {
   "codemirror_mode": {
    "name": "ipython",
    "version": 3
   },
   "file_extension": ".py",
   "mimetype": "text/x-python",
   "name": "python",
   "nbconvert_exporter": "python",
   "pygments_lexer": "ipython3",
   "version": "3.7.6"
  }
 },
 "nbformat": 4,
 "nbformat_minor": 4
}
