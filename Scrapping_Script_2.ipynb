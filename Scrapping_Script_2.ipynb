{
 "cells": [
  {
   "cell_type": "code",
   "execution_count": null,
   "metadata": {},
   "outputs": [],
   "source": [
    "!pip install tqdm\n",
    "!pip install selenium"
   ]
  },
  {
   "cell_type": "code",
   "execution_count": null,
   "metadata": {},
   "outputs": [
    {
     "name": "stderr",
     "output_type": "stream",
     "text": [
      "\n",
      "\n",
      "  0%|                                                                                          | 0/500 [00:00<?, ?it/s]\u001b[A\u001b[A"
     ]
    },
    {
     "name": "stdout",
     "output_type": "stream",
     "text": [
      "-----------------------------------------------------------\n",
      "Start Time = 00:33:42\n",
      "-----------------------------------------------------------\n"
     ]
    },
    {
     "name": "stderr",
     "output_type": "stream",
     "text": [
      "C:\\Users\\suvhr\\anaconda3\\lib\\site-packages\\ipykernel_launcher.py:32: DeprecationWarning: use options instead of chrome_options\n"
     ]
    },
    {
     "name": "stdout",
     "output_type": "stream",
     "text": [
      "Exception has been thrown. Message: timeout: Timed out receiving message from renderer: -0.011\n",
      "  (Session info: chrome=88.0.4324.150)\n",
      "\n"
     ]
    },
    {
     "name": "stderr",
     "output_type": "stream",
     "text": [
      "C:\\Users\\suvhr\\anaconda3\\lib\\site-packages\\ipykernel_launcher.py:40: DeprecationWarning: use options instead of chrome_options\n",
      "\n",
      "\n",
      "  0%|▏                                                                               | 1/500 [00:08<1:12:26,  8.71s/it]\u001b[A\u001b[A"
     ]
    },
    {
     "name": "stdout",
     "output_type": "stream",
     "text": [
      "Exception has been thrown. Message: timeout: Timed out receiving message from renderer: -0.015\n",
      "  (Session info: chrome=88.0.4324.150)\n",
      "\n"
     ]
    },
    {
     "name": "stderr",
     "output_type": "stream",
     "text": [
      "\n",
      "\n",
      "  0%|▎                                                                               | 2/500 [00:19<1:17:10,  9.30s/it]\u001b[A\u001b[A"
     ]
    },
    {
     "name": "stdout",
     "output_type": "stream",
     "text": [
      "Exception has been thrown. Message: timeout: Timed out receiving message from renderer: 0.073\n",
      "  (Session info: chrome=88.0.4324.150)\n",
      "\n"
     ]
    },
    {
     "name": "stderr",
     "output_type": "stream",
     "text": [
      "\n",
      "\n",
      "  1%|▍                                                                               | 3/500 [00:37<1:39:25, 12.00s/it]\u001b[A\u001b[A"
     ]
    },
    {
     "name": "stdout",
     "output_type": "stream",
     "text": [
      "Exception has been thrown. Message: timeout: Timed out receiving message from renderer: -0.012\n",
      "  (Session info: chrome=88.0.4324.150)\n",
      "\n"
     ]
    },
    {
     "name": "stderr",
     "output_type": "stream",
     "text": [
      "\n",
      "\n",
      "  1%|▋                                                                               | 4/500 [00:47<1:34:41, 11.46s/it]\u001b[A\u001b[A"
     ]
    },
    {
     "name": "stdout",
     "output_type": "stream",
     "text": [
      "Exception has been thrown. Message: timeout: Timed out receiving message from renderer: -0.013\n",
      "  (Session info: chrome=88.0.4324.150)\n",
      "\n"
     ]
    },
    {
     "name": "stderr",
     "output_type": "stream",
     "text": [
      "\n",
      "\n",
      "  1%|▊                                                                               | 5/500 [00:58<1:31:30, 11.09s/it]\u001b[A\u001b[A"
     ]
    },
    {
     "name": "stdout",
     "output_type": "stream",
     "text": [
      "Exception has been thrown. Message: timeout: Timed out receiving message from renderer: -0.014\n",
      "  (Session info: chrome=88.0.4324.150)\n",
      "\n"
     ]
    },
    {
     "name": "stderr",
     "output_type": "stream",
     "text": [
      "\n",
      "\n",
      "  1%|▉                                                                               | 6/500 [01:08<1:29:22, 10.86s/it]\u001b[A\u001b[A"
     ]
    },
    {
     "name": "stdout",
     "output_type": "stream",
     "text": [
      "Exception has been thrown. Message: timeout: Timed out receiving message from renderer: -0.005\n",
      "  (Session info: chrome=88.0.4324.150)\n",
      "\n"
     ]
    },
    {
     "name": "stderr",
     "output_type": "stream",
     "text": [
      "\n",
      "\n",
      "  1%|█                                                                               | 7/500 [01:32<2:02:12, 14.87s/it]\u001b[A\u001b[A"
     ]
    },
    {
     "name": "stdout",
     "output_type": "stream",
     "text": [
      "Exception has been thrown. Message: timeout: Timed out receiving message from renderer: -0.004\n",
      "  (Session info: chrome=88.0.4324.150)\n",
      "\n"
     ]
    },
    {
     "name": "stderr",
     "output_type": "stream",
     "text": [
      "\n",
      "\n",
      "  2%|█▎                                                                              | 8/500 [01:40<1:45:43, 12.89s/it]\u001b[A\u001b[A"
     ]
    },
    {
     "name": "stdout",
     "output_type": "stream",
     "text": [
      "Exception has been thrown. Message: timeout: Timed out receiving message from renderer: -0.008\n",
      "  (Session info: chrome=88.0.4324.150)\n",
      "\n"
     ]
    },
    {
     "name": "stderr",
     "output_type": "stream",
     "text": [
      "\n",
      "\n",
      "  2%|█▍                                                                              | 9/500 [01:49<1:34:51, 11.59s/it]\u001b[A\u001b[A"
     ]
    },
    {
     "name": "stdout",
     "output_type": "stream",
     "text": [
      "Exception has been thrown. Message: timeout: Timed out receiving message from renderer: -0.001\n",
      "  (Session info: chrome=88.0.4324.150)\n",
      "\n"
     ]
    },
    {
     "name": "stderr",
     "output_type": "stream",
     "text": [
      "\n",
      "\n",
      "  2%|█▌                                                                             | 10/500 [01:58<1:29:00, 10.90s/it]\u001b[A\u001b[A"
     ]
    },
    {
     "name": "stdout",
     "output_type": "stream",
     "text": [
      "Exception has been thrown. Message: timeout: Timed out receiving message from renderer: -0.010\n",
      "  (Session info: chrome=88.0.4324.150)\n",
      "\n"
     ]
    },
    {
     "name": "stderr",
     "output_type": "stream",
     "text": [
      "\n",
      "\n",
      "  2%|█▋                                                                             | 11/500 [02:22<1:59:28, 14.66s/it]\u001b[A\u001b[A"
     ]
    },
    {
     "name": "stdout",
     "output_type": "stream",
     "text": [
      "Exception has been thrown. Message: timeout: Timed out receiving message from renderer: -0.003\n",
      "  (Session info: chrome=88.0.4324.150)\n",
      "\n"
     ]
    },
    {
     "name": "stderr",
     "output_type": "stream",
     "text": [
      "\n",
      "\n",
      "  2%|█▉                                                                             | 12/500 [02:35<1:56:36, 14.34s/it]\u001b[A\u001b[A"
     ]
    },
    {
     "name": "stdout",
     "output_type": "stream",
     "text": [
      "Exception has been thrown. Message: timeout: Timed out receiving message from renderer: -0.014\n",
      "  (Session info: chrome=88.0.4324.150)\n",
      "\n"
     ]
    },
    {
     "name": "stderr",
     "output_type": "stream",
     "text": [
      "\n",
      "\n",
      "  3%|██                                                                             | 13/500 [02:46<1:47:34, 13.25s/it]\u001b[A\u001b[A"
     ]
    },
    {
     "name": "stdout",
     "output_type": "stream",
     "text": [
      "Exception has been thrown. Message: timeout: Timed out receiving message from renderer: -0.008\n",
      "  (Session info: chrome=88.0.4324.150)\n",
      "\n"
     ]
    },
    {
     "name": "stderr",
     "output_type": "stream",
     "text": [
      "\n",
      "\n",
      "  3%|██▏                                                                            | 14/500 [02:55<1:36:06, 11.86s/it]\u001b[A\u001b[A"
     ]
    },
    {
     "name": "stdout",
     "output_type": "stream",
     "text": [
      "Exception has been thrown. Message: timeout: Timed out receiving message from renderer: -0.007\n",
      "  (Session info: chrome=88.0.4324.150)\n",
      "\n"
     ]
    },
    {
     "name": "stderr",
     "output_type": "stream",
     "text": [
      "\n",
      "\n",
      "  3%|██▎                                                                            | 15/500 [03:19<2:06:51, 15.69s/it]\u001b[A\u001b[A"
     ]
    },
    {
     "name": "stdout",
     "output_type": "stream",
     "text": [
      "Exception has been thrown. Message: timeout: Timed out receiving message from renderer: -0.006\n",
      "  (Session info: chrome=88.0.4324.150)\n",
      "\n"
     ]
    },
    {
     "name": "stderr",
     "output_type": "stream",
     "text": [
      "\n",
      "\n",
      "  3%|██▌                                                                            | 16/500 [03:37<2:10:19, 16.16s/it]\u001b[A\u001b[A"
     ]
    },
    {
     "name": "stdout",
     "output_type": "stream",
     "text": [
      "Exception has been thrown. Message: timeout: Timed out receiving message from renderer: -0.004\n",
      "  (Session info: chrome=88.0.4324.150)\n",
      "\n"
     ]
    },
    {
     "name": "stderr",
     "output_type": "stream",
     "text": [
      "\n",
      "\n",
      "  3%|██▋                                                                            | 17/500 [03:47<1:55:55, 14.40s/it]\u001b[A\u001b[A"
     ]
    },
    {
     "name": "stdout",
     "output_type": "stream",
     "text": [
      "Exception has been thrown. Message: timeout: Timed out receiving message from renderer: -0.015\n",
      "  (Session info: chrome=88.0.4324.150)\n",
      "\n"
     ]
    }
   ],
   "source": [
    "#creating loop for scrapping the data\n",
    "from selenium import webdriver as wb\n",
    "from tqdm import tqdm\n",
    "import pandas as pd\n",
    "from selenium.common.exceptions import TimeoutException,NoSuchElementException\n",
    "from datetime import datetime\n",
    "\n",
    "#put here your data link path\n",
    "#data scrapping 13000-14000\n",
    "data_link = r\"G:\\OFFICE\\Data Extraction\\13000-14000\\data_13k_14k.csv\"\n",
    "df = pd.read_csv(data_link, delimiter=',', quotechar='\"')\n",
    "df_link = list(df[\"selection1_url\"])\n",
    "df_part = list(df[\"selection1\"])\n",
    "df_final = pd.DataFrame()\n",
    "temp_data = []\n",
    "temp_data_one = []\n",
    "temp_data_two = []\n",
    "temp_data_three = []\n",
    "\n",
    "\n",
    "start = datetime.now()\n",
    "starting_time = start.strftime(\"%H:%M:%S\")\n",
    "print(\"-----------------------------------------------------------\")\n",
    "print(\"Start Time =\", starting_time)\n",
    "print(\"-----------------------------------------------------------\")\n",
    "\n",
    "#if you want to change loop iteration the just change the loop inner number\n",
    "for i in tqdm(range(1500,2000)): #len(df_link) if you want the extract full data\n",
    "    try:\n",
    "        path_chrome = \"chromedriver.exe\"\n",
    "        options = wb.ChromeOptions() \n",
    "        webD=wb.Chrome(\"chromedriver.exe\", chrome_options=options)\n",
    "        webD.set_page_load_timeout(1)\n",
    "        webD.get(df_link[i])\n",
    "    except TimeoutException as ex:\n",
    "        isrunning = 0\n",
    "        print(\"Exception has been thrown. \" + str(ex))\n",
    "        path_chrome = \"chromedriver.exe\"\n",
    "        options = wb.ChromeOptions() \n",
    "        webD=wb.Chrome(\"chromedriver.exe\", chrome_options=options)\n",
    "        webD.maximize_window()\n",
    "        webD.implicitly_wait(200)\n",
    "        webD.get(df_link[i])\n",
    "        clickObj = webD.find_element_by_xpath('//*[@id=\"body-wrap\"]/section[2]/div/div/div[1]/div[2]/div[1]/h1')\n",
    "        clickObj_one = webD.find_element_by_xpath('//*[@id=\"body-wrap\"]/section[2]/div/div/div[1]/div[2]/div[2]/p')\n",
    "        clickObj_two = webD.find_element_by_xpath('//*[@id=\"body-wrap\"]/section[2]/div/div/div[1]/div[4]/table/tbody')\n",
    "        temp_data.append(clickObj.text)\n",
    "        temp_data_one.append(clickObj_one.text)\n",
    "        temp_data_two.append(clickObj_two.text)\n",
    "        temp_data_three.append(df_part[i])\n",
    "        webD.close()\n",
    "    except NoSuchElementException as ex:\n",
    "        isrunning = 0\n",
    "        print(\"Exception has been thrown for no element. \" + str(ex))\n",
    "        path_chrome = \"chromedriver.exe\"\n",
    "        options = wb.ChromeOptions() \n",
    "        webD=wb.Chrome(\"chromedriver.exe\", chrome_options=options)\n",
    "        webD.maximize_window()\n",
    "        webD.implicitly_wait(200)\n",
    "        webD.get(df_link[i])\n",
    "        clickObj = webD.find_element_by_xpath('//*[@id=\"body-wrap\"]/section[2]/div/div/div[1]/div[2]/div[1]/h1')\n",
    "        clickObj_one = webD.find_element_by_xpath('//*[@id=\"body-wrap\"]/section[2]/div/div/div[1]/div[2]/div[2]/p')\n",
    "        clickObj_two = webD.find_element_by_xpath('//*[@id=\"body-wrap\"]/section[2]/div/div/div[1]/div[4]/table/tbody')\n",
    "        temp_data.append(clickObj.text)\n",
    "        temp_data_one.append(clickObj_one.text)\n",
    "        temp_data_two.append(clickObj_two.text)\n",
    "        temp_data_three.append(df_part[i])\n",
    "        webD.close()\n",
    "\n",
    "df_final['part_no'] = temp_data_three\n",
    "df_final['part_heading'] = temp_data\n",
    "df_final['part_drescription'] = temp_data_one\n",
    "df_final['part_details'] = temp_data_two\n",
    "#change csv file name after all compilation otherwise your data will be overite\n",
    "df_final.to_csv(\"1500-2000.csv\", index=None)\n",
    "\n",
    "end = datetime.now()\n",
    "end_time = end.strftime(\"%H:%M:%S\")\n",
    "print(\"-----------------------------------------------------------\")\n",
    "print(\"End Time =\", end_time)\n",
    "print(\"-----------------------------------------------------------\")\n"
   ]
  },
  {
   "cell_type": "code",
   "execution_count": null,
   "metadata": {
    "scrolled": false
   },
   "outputs": [],
   "source": []
  },
  {
   "cell_type": "code",
   "execution_count": null,
   "metadata": {},
   "outputs": [],
   "source": []
  },
  {
   "cell_type": "code",
   "execution_count": null,
   "metadata": {},
   "outputs": [],
   "source": []
  },
  {
   "cell_type": "code",
   "execution_count": null,
   "metadata": {},
   "outputs": [],
   "source": []
  },
  {
   "cell_type": "code",
   "execution_count": null,
   "metadata": {},
   "outputs": [],
   "source": []
  },
  {
   "cell_type": "code",
   "execution_count": null,
   "metadata": {},
   "outputs": [],
   "source": []
  }
 ],
 "metadata": {
  "kernelspec": {
   "display_name": "Python 3",
   "language": "python",
   "name": "python3"
  },
  "language_info": {
   "codemirror_mode": {
    "name": "ipython",
    "version": 3
   },
   "file_extension": ".py",
   "mimetype": "text/x-python",
   "name": "python",
   "nbconvert_exporter": "python",
   "pygments_lexer": "ipython3",
   "version": "3.7.6"
  }
 },
 "nbformat": 4,
 "nbformat_minor": 4
}
